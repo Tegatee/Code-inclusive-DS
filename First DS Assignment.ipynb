{
 "cells": [
  {
   "cell_type": "markdown",
   "metadata": {},
   "source": [
    "<h1>CODE Inclusive Data Science interns: Numpy and Matplotlib</h1>"
   ]
  },
  {
   "cell_type": "markdown",
   "metadata": {},
   "source": [
    "<p>1. Working with Numpy, create a function which generate 20 random integers  between 20 and 70. \n",
    "Compute the mean , variance , standard deviation ,median, maximum and minimum value of this data set. These result should be returned from the data set as a dictionary. Use appropriate names for the keys of the dictionary. The dictionary being returned should include the data generated as one of it’s value</p>"
   ]
  },
  {
   "cell_type": "code",
   "execution_count": 209,
   "metadata": {},
   "outputs": [
    {
     "data": {
      "text/plain": [
       "{'Dataset': array([57, 65, 20, 65, 61, 53, 39, 25, 58, 29, 23, 39, 43, 62, 69, 47, 43,\n",
       "        22, 67, 65]),\n",
       " 'Mean': 47.6,\n",
       " 'Variance': 271.24,\n",
       " 'Standard_Deviation': 16.47,\n",
       " 'Median': 50.0,\n",
       " 'Maximum': 69,\n",
       " 'Minimum': 20}"
      ]
     },
     "execution_count": 209,
     "metadata": {},
     "output_type": "execute_result"
    }
   ],
   "source": [
    "def describe():\n",
    "    import numpy as np\n",
    "    n = np.random.randint(20, 70, 20).copy()\n",
    "    return {'Dataset': n, 'Mean':np.mean(n), 'Variance': round(np.var(n),3), 'Standard_Deviation': round(np.std(n),2), 'Median': np.median(n), 'Maximum': np.max(n), 'Minimum':np.min(n)}\n",
    "m = describe()\n",
    "m"
   ]
  },
  {
   "cell_type": "markdown",
   "metadata": {},
   "source": [
    "<p>2.Create a function which utilizes the result returned from the function above. Your function should compute the number of data items less than the mean , and an array of z-scores( i.e data minus mean divided by the standard deviation).\n",
    "Determine if all z-scores are  lies between -3 and 3. The results should be printed to the console.</p>"
   ]
  },
  {
   "cell_type": "code",
   "execution_count": 205,
   "metadata": {},
   "outputs": [],
   "source": [
    "def z_score():\n",
    "    mean_u =[]\n",
    "    z_score =[]\n",
    "    for i in list(m['Dataset']):\n",
    "        if i < m['Mean']:\n",
    "            mean_u.append(i)\n",
    "            \n",
    "    for j in list(m['Dataset']):\n",
    "        score = round(((j - m['Mean'])/m['Standard_Deviation']),2)\n",
    "        z_score.append(score)\n",
    "    for a in z_score:\n",
    "        if a>=-3 and a<=3:\n",
    "            print(\"All z-scores lies between -3 and 3\")\n",
    "            return np.array(z_score), mean_u\n",
    "        else:\n",
    "            print(\"All z-scores do not lie between -3 and 3\")"
   ]
  },
  {
   "cell_type": "code",
   "execution_count": 206,
   "metadata": {},
   "outputs": [
    {
     "name": "stdout",
     "output_type": "stream",
     "text": [
      "All z-scores lies between -3 and 3\n"
     ]
    },
    {
     "data": {
      "text/plain": [
       "(array([-1.52,  0.1 ,  0.84,  0.64,  1.79, -0.03, -1.18, -0.84,  1.18,\n",
       "         0.24, -1.05,  0.1 ,  0.03, -1.38, -0.78, -1.45,  0.1 ,  1.58,\n",
       "         1.18,  0.44]),\n",
       " [20, 42, 25, 30, 27, 22, 31, 21])"
      ]
     },
     "execution_count": 206,
     "metadata": {},
     "output_type": "execute_result"
    }
   ],
   "source": [
    "z_score()"
   ]
  },
  {
   "cell_type": "markdown",
   "metadata": {},
   "source": [
    "<p>3.Using the generated numbers returned from 1, plot a box plot and interpret the result of the box plot(explaining what a box plot is used for and what each major point on the box plot entails).</p>"
   ]
  },
  {
   "cell_type": "code",
   "execution_count": 207,
   "metadata": {},
   "outputs": [
    {
     "data": {
      "text/plain": [
       "Text(0.5, 1.0, 'Boxplot with Seaborn')"
      ]
     },
     "execution_count": 207,
     "metadata": {},
     "output_type": "execute_result"
    },
    {
     "data": {
      "image/png": "[encoded data removed]",
      "text/plain": [
       "<Figure size 432x288 with 1 Axes>"
      ]
     },
     "metadata": {},
     "output_type": "display_data"
    }
   ],
   "source": [
    "import matplotlib.pyplot as plt\n",
    "import seaborn; seaborn.set()\n",
    "seaborn.boxplot(m['Dataset'])\n",
    "plt.title('Boxplot with Seaborn')"
   ]
  },
  {
   "cell_type": "markdown",
   "metadata": {},
   "source": [
    "<h3>Boxplot\n",
    "</h3>"
   ]
  },
  {
   "cell_type": "markdown",
   "metadata": {},
   "source": [
    "<p>A boxplots is a statistical representation of numerical data through their quartiles</p>\n",
    "<br>\n",
    "<h6>Median</h6>\n",
    "<p>the median (middle quartile) marks the mid-point of the data and shown by the line that divides the box into two parts</p>\n",
    "<h6>Inter-quartile range</h6>\n",
    "<p>The middle 'box' represents the middle 50% of the Dataset, The range of the Dataset from lower to upper quartile is referred to as the inter-quartile range. The middle 50% of the Dataset fall within the inter-quartile range</p>\n",
    "<h6>Lower quartile</h6>\n",
    "<p>Twenty-five percent of the Dataset fall below the lower quartile</p>\n",
    "<h6>Upper quartile</h6>\n",
    "<p>Seveny-five percent of the Dataset fall below the upper quartile</p>\n",
    "<h6>Whiskers</h6>\n",
    "<p>The whiskers are what the lines that go from the minimum to the end of Q1, and from the end of the Q3 to the maximum. These whiskers show you how far your data extends from the end of the box on either side until you start reaching your outliers. </p>\n",
    "<h6>Outliers</h6>\n",
    "<p>An outlier is any point that extends lower than the minimum or higher than the maximum. In box plots</p>\n",
    "<hr>"
   ]
  },
  {
   "cell_type": "markdown",
   "metadata": {},
   "source": []
  },
  {
   "cell_type": "markdown",
   "metadata": {},
   "source": [
    "<p>4.Using the data returned from 1, change the value of the item at index 15 to 270, then compute same values computed in 1, then obtain the box plot for this new data set.</p>"
   ]
  },
  {
   "cell_type": "code",
   "execution_count": 208,
   "metadata": {},
   "outputs": [
    {
     "data": {
      "text/plain": [
       "Text(0.5, 1.0, 'Boxplot with Outlier')"
      ]
     },
     "execution_count": 208,
     "metadata": {},
     "output_type": "execute_result"
    },
    {
     "data": {
      "image/png": "[encoded data removed]",
      "text/plain": [
       "<Figure size 432x288 with 1 Axes>"
      ]
     },
     "metadata": {},
     "output_type": "display_data"
    }
   ],
   "source": [
    "m['Dataset'][15] =270\n",
    "seaborn.boxplot(m['Dataset'])\n",
    "plt.title('Boxplot with Outlier')"
   ]
  },
  {
   "cell_type": "code",
   "execution_count": null,
   "metadata": {},
   "outputs": [],
   "source": []
  },
  {
   "cell_type": "code",
   "execution_count": null,
   "metadata": {},
   "outputs": [],
   "source": []
  },
  {
   "cell_type": "code",
   "execution_count": null,
   "metadata": {},
   "outputs": [],
   "source": []
  }
 ],
 "metadata": {
  "kernelspec": {
   "display_name": "Python 3",
   "language": "python",
   "name": "python3"
  },
  "language_info": {
   "codemirror_mode": {
    "name": "ipython",
    "version": 3
   },
   "file_extension": ".py",
   "mimetype": "text/x-python",
   "name": "python",
   "nbconvert_exporter": "python",
   "pygments_lexer": "ipython3",
   "version": "3.8.3"
  }
 },
 "nbformat": 4,
 "nbformat_minor": 4
}
